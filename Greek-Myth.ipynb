{
 "cells": [
  {
   "cell_type": "code",
   "execution_count": 1,
   "metadata": {
    "collapsed": true
   },
   "outputs": [],
   "source": [
    "#Scrape and download all links to the local file system due to http speed limit\n",
    "import urllib.request\n",
    "html_doc = ''\n",
    "with urllib.request.urlopen('https://en.wikipedia.org/wiki/List_of_Greek_mythological_figures') as response:\n",
    "    html_doc = response.read()"
   ]
  },
  {
   "cell_type": "code",
   "execution_count": 2,
   "metadata": {},
   "outputs": [
    {
     "name": "stdout",
     "output_type": "stream",
     "text": [
      "2090\n"
     ]
    }
   ],
   "source": [
    "from bs4 import BeautifulSoup\n",
    "soup = BeautifulSoup(html_doc, 'html.parser')\n",
    "all_links = soup.find_all('a')\n",
    "print(len(all_links))"
   ]
  },
  {
   "cell_type": "code",
   "execution_count": 3,
   "metadata": {},
   "outputs": [],
   "source": [
    "#Download all of the relevant web pages from all the links\n",
    "def download_pages():\n",
    "    counter = 0\n",
    "    for link in all_links:\n",
    "        if(link.has_attr('href') and \"/wiki/\" in link['href']):\n",
    "            if counter/len(all_links) % 10 == 0:\n",
    "                print(str(counter/len(all_links) * 100) + '%')\n",
    "            href = link['href']\n",
    "            if '.jpg' or '.svg' or '.png' in href:\n",
    "                continue\n",
    "            urllib.request.urlretrieve(\"https://en.wikipedia.org\"+href, href[href.rfind('/')+1:] + '.html')\n",
    "    href = \"/wiki/List_of_Greek_mythological_figures\"\n",
    "    urllib.request.urlretrieve(\"https://en.wikipedia.org\"+href, href[href.rfind('/')+1:] + '.html')"
   ]
  },
  {
   "cell_type": "code",
   "execution_count": 4,
   "metadata": {},
   "outputs": [
    {
     "name": "stdout",
     "output_type": "stream",
     "text": [
      "19\n",
      "dict_keys(['Major gods and goddesses', 'Primordial deities', 'Titans and Titanesses', 'Gigantes and other \"giants\"', 'Personified concepts', 'Chthonic deities', 'Sea deities', 'Sky deities', 'Rustic deities', 'Agricultural deities', 'Health deities', 'Other deities', 'Deified mortals', 'Heroes', 'Notable women', 'Kings', 'Seers & oracles', 'Amazons', 'Inmates of Tartarus'])\n"
     ]
    }
   ],
   "source": [
    "soup.h3.span.text\n",
    "soup.h3.next_sibling\n",
    "sibling = soup.h3\n",
    "counter = 0\n",
    "h3_tag = soup.h3\n",
    "h3_sibling_content = soup.h3.next_sibling.next_sibling\n",
    "\n",
    "#Go back 1 sibling to be able to grab the first h3 tag into the list\n",
    "clean_siblings = [s for s in h3_tag.previous_sibling.next_siblings if (str(s).strip() != \"\" and (s.name == \"h3\" or s.name == \"div\" or s.name == \"table\" or s.name==\"ul\"))]\n",
    "clean_siblings = clean_siblings[:-7]\n",
    "clean_siblings.remove(clean_siblings[5])\n",
    "\n",
    "it = iter(clean_siblings)\n",
    "heading_content_dict= {}\n",
    "for sibling in it:\n",
    "    heading_content_dict[sibling.text.replace(\"[edit]\",\"\").replace(\"/\",\" & \")] = next(it)\n",
    "print(len(heading_content_dict))\n",
    "#print(heading_content_dict)\n",
    "print(heading_content_dict.keys())\n",
    "        \n",
    "    #print(next(it))"
   ]
  },
  {
   "cell_type": "code",
   "execution_count": 42,
   "metadata": {},
   "outputs": [
    {
     "name": "stdout",
     "output_type": "stream",
     "text": [
      "/wiki/Aphrodite\n",
      "Children:\n",
      "['Eros', ' Phobos', ' Deimos', ' Harmonia', ' Pothos', ' Anteros', ' Himeros', ' Hermaphroditus', ' Rhodos', ' Eryx', ' Peitho', ' Eunomia', ' The Graces', ' Priapus', ' Aeneas']\n",
      "Parents:\n",
      "['Uranus', 'Zeus', 'Dione']\n",
      "\n",
      "/wiki/Apollo\n",
      "Children:\n",
      "['Asclepius', ' Troilus', ' Aristaeus', ' Orpheus']\n",
      "Parents:\n",
      "['Zeus', 'Leto']\n",
      "\n",
      "/wiki/Ares\n",
      "Children:\n",
      "['Erotes ', ' Phobos', ' Deimos', ' Phlegyas', ' Harmonia', ' Enyalios', ' Thrax', ' Oenomaus', ' Amazons', 'Adrestia']\n",
      "Parents:\n",
      "['Zeus', 'Hera']\n",
      "\n",
      "/wiki/Artemis\n",
      "Parents:\n",
      "['Zeus', 'Leto']\n",
      "\n",
      "/wiki/Athena\n",
      "Parents:\n",
      "['Metis', 'Zeus']\n",
      "\n",
      "/wiki/Demeter\n",
      "Children:\n",
      "['Persephone', ' Despoina', ' Arion', ' Plutus', ' Philomelus', ' Eubuleus', ' Chrysothemis', '', 'Amphitheus I']\n",
      "Parents:\n",
      "['Cronus', 'Rhea']\n",
      "\n",
      "/wiki/Dionysus\n",
      "Children:\n",
      "['Priapus', ' Hymen', ' Thaos', ' Staphylus', ' Oenopion', ' Comus', ' Phthonus', ' the Graces']\n",
      "Parents:\n",
      "['Zeus', 'Persephone ', ' Zeus', 'Semele']\n",
      "\n",
      "/wiki/Hades\n",
      "Children:\n",
      "['Macaria', ' Melinoe']\n",
      "Parents:\n",
      "['Cronus', 'Rhea']\n",
      "\n",
      "/wiki/Hephaestus\n",
      "Children:\n",
      "['Thalia', ' Eucleia', ' Eupheme', ' Philophrosyne', ' Cabeiri', 'Euthenia']\n",
      "Parents:\n",
      "['Zeus', 'Hera', '', 'Hera alone']\n",
      "\n",
      "/wiki/Hera\n",
      "Children:\n",
      "['Angelos', ' Ares', ' Eileithyia', ' Enyo', ' Eris', ' Hebe', ' Hephaestus']\n",
      "Parents:\n",
      "['Cronus', 'Rhea']\n",
      "\n",
      "/wiki/Hermes\n",
      "Children:\n",
      "['Pan', ' Hermaphroditus', ' Tyche', ' Abderus', ' Autolycus', ' Angelia', ' Myrtilus']\n",
      "Parents:\n",
      "['Zeus', 'Maia']\n",
      "\n",
      "/wiki/Hestia\n",
      "Children:\n",
      "['none']\n",
      "Parents:\n",
      "['Cronus', 'Rhea']\n",
      "\n",
      "/wiki/Poseidon\n",
      "Children:\n",
      "['Theseus', ' Triton', ' Polyphemus', ' Orion', ' Belus', ' Agenor', ' Neleus', ' Atlas']\n",
      "Parents:\n",
      "['Cronus', 'Rhea']\n",
      "\n",
      "/wiki/Zeus\n",
      "Children:\n",
      "['Aeacus', ' Angelos', ' Aphrodite', ' Apollo', ' Ares', ' Artemis', ' Athena', ' Dionysus', ' Eileithyia', ' Enyo', ' Eris', ' Ersa', ' Hebe', ' Helen of Troy', ' Hephaestus', ' Heracles', ' Hermes', ' Minos', ' Pandia', ' Persephone', ' Perseus', ' Rhadamanthus', ' the Graces', ' the Horae', ' the Litae', ' the Muses', ' the Moirai']\n",
      "Parents:\n",
      "['Cronus', 'Rhea']\n",
      "\n"
     ]
    }
   ],
   "source": [
    "import re\n",
    "\n",
    "doc = heading_content_dict[\"Major gods and goddesses\"]\n",
    "soup_major = BeautifulSoup(str(doc), 'html.parser')\n",
    "values = soup_major.find_all(\"td\")\n",
    "sub_pages = []\n",
    "for td in values:\n",
    "    if not td.a.img:\n",
    "        print(td.a['href'])\n",
    "        f = open(td.a['href'][1:] + \".html\", 'r')\n",
    "        sub_doc = f.read()\n",
    "        soup_major_sub = BeautifulSoup(str(sub_doc), 'html.parser')\n",
    "        box_info = soup_major_sub.find_all(\"tr\")\n",
    "        for tr in box_info:\n",
    "            if tr.th and (tr.th.text == \"Children\" or tr.th.text == \"Parents\"):\n",
    "                print(tr.th.text + \":\")\n",
    "                st = re.sub(r'\\s(or|and)\\s', ',',tr.td.text) #Get rid of 'or' 'and' stop words\n",
    "                print(re.sub(r'(\\[|\\().*?(\\]|\\))','',st).split(\",\")) #Parse out citation square brackets\n",
    "        print()\n",
    "        \n",
    "        \n",
    "    "
   ]
  },
  {
   "cell_type": "code",
   "execution_count": 77,
   "metadata": {},
   "outputs": [
    {
     "name": "stdout",
     "output_type": "stream",
     "text": [
      "65123\n",
      "89091\n",
      "90523\n",
      "105967\n",
      "85413\n",
      "80658\n",
      "135713\n",
      "171071\n",
      "69232\n",
      "63369\n",
      "160744\n",
      "106538\n",
      "56325\n",
      "90797\n",
      "220627\n",
      "59677\n",
      "76952\n",
      "152303\n",
      "119772\n",
      "73932\n",
      "74727\n"
     ]
    }
   ],
   "source": [
    "doc = heading_content_dict[\"Primordial deities\"]\n",
    "soup_prime = BeautifulSoup(str(doc), 'html.parser')\n",
    "values = soup_prime.find_all(\"tr\")\n",
    "links = []\n",
    "for tr in values:\n",
    "    if tr.contents[3].a:\n",
    "        f = open(tr.contents[3].a['href'][1:] + '.html','r')\n",
    "        print(len(f.read()))\n",
    "        "
   ]
  },
  {
   "cell_type": "code",
   "execution_count": 6,
   "metadata": {
    "collapsed": true
   },
   "outputs": [],
   "source": [
    " from py2neo import Graph\n"
   ]
  },
  {
   "cell_type": "code",
   "execution_count": null,
   "metadata": {
    "collapsed": true
   },
   "outputs": [],
   "source": []
  }
 ],
 "metadata": {
  "kernelspec": {
   "display_name": "Python 3",
   "language": "python",
   "name": "python3"
  },
  "language_info": {
   "codemirror_mode": {
    "name": "ipython",
    "version": 3
   },
   "file_extension": ".py",
   "mimetype": "text/x-python",
   "name": "python",
   "nbconvert_exporter": "python",
   "pygments_lexer": "ipython3",
   "version": "3.6.1"
  }
 },
 "nbformat": 4,
 "nbformat_minor": 2
}
